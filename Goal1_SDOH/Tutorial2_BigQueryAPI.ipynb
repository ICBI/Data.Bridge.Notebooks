{
  "nbformat": 4,
  "nbformat_minor": 0,
  "metadata": {
    "colab": {
      "provenance": [],
      "include_colab_link": true
    },
    "kernelspec": {
      "name": "python3",
      "display_name": "Python 3"
    },
    "language_info": {
      "name": "python"
    }
  },
  "cells": [
    {
      "cell_type": "markdown",
      "metadata": {
        "id": "view-in-github",
        "colab_type": "text"
      },
      "source": [
        "<a href=\"https://colab.research.google.com/github/ICBI/Data.Bridge.Notebooks/blob/main/Tutorial2_BigQueryAPI.ipynb\" target=\"_parent\"><img src=\"https://colab.research.google.com/assets/colab-badge.svg\" alt=\"Open In Colab\"/></a>"
      ]
    },
    {
      "cell_type": "markdown",
      "source": [
        "# Tutorial 2 - Accessing the Georgetown SDOH Datawarehouse through an API\n",
        "\n",
        "Team members: Peter McGarvey, Adil Alaoui, Yili Zhang, Jia Li Dong, Krithika Bhuvaneshwar, Camelia Bencheqroun\n",
        "\n",
        "Affiliation: Innovation Center for Biomedical Informatics (Georgetown-ICBI), Georgetown University Medical Center"
      ],
      "metadata": {
        "id": "R8PwMVq3ivDo"
      }
    },
    {
      "cell_type": "markdown",
      "source": [
        "## Pre-requisites\n",
        "* Users must have an google account\n",
        "* Users must enable cloud access\n",
        "* Users must generate a JSON File with credentials . Instructions are [here](https://cloud.google.com/bigquery/docs/authentication/service-account-file)\n",
        "* Access/Credentials: Please contact icbi@georgetown.edu to request read-only access to the Georgetown-SDOH BigQuery database\n",
        "* NOTE : Please do NOT share with JSON File with anyone else, or upload it into any public repository\n",
        "* Upload this JSON File to your Google Drive \"MyDrive folder\". This is its path: `/content/drive/MyDrive/`\n",
        "\n"
      ],
      "metadata": {
        "id": "tPiRzGhyi02z"
      }
    },
    {
      "cell_type": "markdown",
      "source": [
        "## Installation and Authentication\n",
        "\n",
        "To get into BigQuery, you needed to authenticate using Google Application Credentials via BigQuery API. \\ Upload the JSON file into your drive, and run the following code:\n",
        "\n"
      ],
      "metadata": {
        "id": "Sa6ENM_1_mXH"
      }
    },
    {
      "cell_type": "code",
      "source": [
        "from google.colab import drive # Mount Google Drive\n",
        "drive.mount('/content/drive')"
      ],
      "metadata": {
        "id": "OsVRVZkhw2Mb",
        "outputId": "6d8fb493-74e4-4719-bcc0-081a95a96871",
        "colab": {
          "base_uri": "https://localhost:8080/"
        }
      },
      "execution_count": 1,
      "outputs": [
        {
          "output_type": "stream",
          "name": "stdout",
          "text": [
            "Mounted at /content/drive\n"
          ]
        }
      ]
    },
    {
      "cell_type": "markdown",
      "source": [
        "Reminder: Upload your JSON credentials file to your Google Drive \"MyDrive folder\". This is its path: `/content/drive/MyDrive/`\n",
        "\n",
        "For this example, the JSON file is in **/content/sdoh-352614-66c1df96e90e.json**. Then, initialize the BigQuery client using this code:"
      ],
      "metadata": {
        "id": "qi4brN_BA3tn"
      }
    },
    {
      "cell_type": "code",
      "execution_count": 2,
      "metadata": {
        "id": "fUqo8fw7Zgi1"
      },
      "outputs": [],
      "source": [
        "import os\n",
        "os.environ[\"GOOGLE_APPLICATION_CREDENTIALS\"] = '/content/drive/MyDrive/sdoh-352614-66c1df96e90e.json'"
      ]
    },
    {
      "cell_type": "code",
      "source": [
        "from google.cloud import bigquery\n",
        "# simple non parameterized query\n",
        "client = bigquery.Client()"
      ],
      "metadata": {
        "id": "hSWhZWBRaBLo"
      },
      "execution_count": 3,
      "outputs": []
    },
    {
      "cell_type": "markdown",
      "source": [
        "### Process\n",
        "* Write the SQL query inside three quotations. Then, query into the client using SQL.\n",
        "* Use the SQL syntax of ```SELECT * FROM the_location_of_your_project.the_location_of_your_dataset.the_table_location``` **inside** the client query with three single quotation marks in order to obtain the data.\n",
        "\n",
        "\n",
        "\n",
        "\n"
      ],
      "metadata": {
        "id": "zxv-8CGGBPwO"
      }
    },
    {
      "cell_type": "markdown",
      "source": [
        "## Example query with sample code\n",
        "For example, lets say we want to query BigQuery table named **SVI 2018**, which is inside the BigQuery dataset  **Social_Determinants**.\n",
        "The **Social_Determinants** dataset is inside a BigQuery project named **sdoh-352614**.\n",
        "We want to save the resulting data table into a new dataframe in Colab called **df1**.\n",
        "\n",
        "**Quick Summary of example**\n",
        "* Query BigQuery table: `SVI 2018`\n",
        "* Name of dataset: `Social_Determinants`\n",
        "* Name of BigQuery project: `sdoh-352614`\n",
        "* Save result into object : `df1`\n",
        "* This is the syntax of the SELECT query that contains the table name, dataset and project name:\n",
        "```SELECT * FROM `sdoh-352614.Social_Determinants.SVI 2018` ```\n",
        "\n",
        "* This is the full syntax with the query wrapped inside the client statement using three single quotes\n",
        "```\n",
        "df1 = client.query('''\n",
        "SELECT * FROM `sdoh-352614.Social_Determinants.SVI 2018`\n",
        "''').to_dataframe()\n",
        "\n",
        "```"
      ],
      "metadata": {
        "id": "4mEUZugRBo8I"
      }
    },
    {
      "cell_type": "code",
      "source": [
        "query1 = \"\"\"\n",
        "    SELECT *\n",
        "    FROM `sdoh-352614.Social_Determinants.NDI 2013-2017`\n",
        "\n",
        "\"\"\"\n",
        "df1 = client.query(query1).to_dataframe()\n",
        "df1.head()"
      ],
      "metadata": {
        "id": "_vobsC_8aN5Y",
        "colab": {
          "base_uri": "https://localhost:8080/",
          "height": 356
        },
        "outputId": "4a91ab71-f116-4d46-dba4-c85ae9ec8b45"
      },
      "execution_count": 5,
      "outputs": [
        {
          "output_type": "execute_result",
          "data": {
            "text/plain": [
              "      TractID  StCoFIPS StAbbr  NDI         NDIQuint  MedHHInc  PctRecvIDR  \\\n",
              "0  1101003000      1101     AL  NaN  9-NDI not avail     26635         2.5   \n",
              "1  2016000100      2016     AK  NaN  9-NDI not avail     62083         NaN   \n",
              "2  2105000200      2105     AK  NaN  9-NDI not avail     42500        65.0   \n",
              "3  2170000101      2170     AK  NaN  9-NDI not avail     37222        66.9   \n",
              "4  2290000100      2290     AK  NaN  9-NDI not avail     27222        53.4   \n",
              "\n",
              "   PctPubAsst  MedHomeVal  PctMgmtBusSciArt  PctFemHeadKids  PctOwnerOcc  \\\n",
              "0        40.9       62300               NaN            26.1         46.3   \n",
              "1         1.0       81300              28.1             NaN         60.8   \n",
              "2         NaN        <NA>              39.3             3.0         75.0   \n",
              "3         NaN      128100              22.6             6.6         82.4   \n",
              "4         NaN       81100              38.3            14.2         71.7   \n",
              "\n",
              "   PctNoPhone  PctNComPlmb  PctEducHSPlus  PctEducBchPlus  PctFamBelowPov  \\\n",
              "0         2.1          3.5           72.2            11.6            40.3   \n",
              "1         4.2          2.1           92.0            13.8            12.3   \n",
              "2         6.3          9.4           83.9            16.1             5.3   \n",
              "3         6.3         22.4           87.8            11.5            22.0   \n",
              "4         7.1         56.4           77.6             8.7            34.7   \n",
              "\n",
              "   PctUnempl  \n",
              "0       22.8  \n",
              "1        3.5  \n",
              "2       12.5  \n",
              "3       15.8  \n",
              "4       23.1  "
            ],
            "text/html": [
              "\n",
              "  <div id=\"df-834051d8-f5e0-4f88-917d-a949960e265e\">\n",
              "    <div class=\"colab-df-container\">\n",
              "      <div>\n",
              "<style scoped>\n",
              "    .dataframe tbody tr th:only-of-type {\n",
              "        vertical-align: middle;\n",
              "    }\n",
              "\n",
              "    .dataframe tbody tr th {\n",
              "        vertical-align: top;\n",
              "    }\n",
              "\n",
              "    .dataframe thead th {\n",
              "        text-align: right;\n",
              "    }\n",
              "</style>\n",
              "<table border=\"1\" class=\"dataframe\">\n",
              "  <thead>\n",
              "    <tr style=\"text-align: right;\">\n",
              "      <th></th>\n",
              "      <th>TractID</th>\n",
              "      <th>StCoFIPS</th>\n",
              "      <th>StAbbr</th>\n",
              "      <th>NDI</th>\n",
              "      <th>NDIQuint</th>\n",
              "      <th>MedHHInc</th>\n",
              "      <th>PctRecvIDR</th>\n",
              "      <th>PctPubAsst</th>\n",
              "      <th>MedHomeVal</th>\n",
              "      <th>PctMgmtBusSciArt</th>\n",
              "      <th>PctFemHeadKids</th>\n",
              "      <th>PctOwnerOcc</th>\n",
              "      <th>PctNoPhone</th>\n",
              "      <th>PctNComPlmb</th>\n",
              "      <th>PctEducHSPlus</th>\n",
              "      <th>PctEducBchPlus</th>\n",
              "      <th>PctFamBelowPov</th>\n",
              "      <th>PctUnempl</th>\n",
              "    </tr>\n",
              "  </thead>\n",
              "  <tbody>\n",
              "    <tr>\n",
              "      <th>0</th>\n",
              "      <td>1101003000</td>\n",
              "      <td>1101</td>\n",
              "      <td>AL</td>\n",
              "      <td>NaN</td>\n",
              "      <td>9-NDI not avail</td>\n",
              "      <td>26635</td>\n",
              "      <td>2.5</td>\n",
              "      <td>40.9</td>\n",
              "      <td>62300</td>\n",
              "      <td>NaN</td>\n",
              "      <td>26.1</td>\n",
              "      <td>46.3</td>\n",
              "      <td>2.1</td>\n",
              "      <td>3.5</td>\n",
              "      <td>72.2</td>\n",
              "      <td>11.6</td>\n",
              "      <td>40.3</td>\n",
              "      <td>22.8</td>\n",
              "    </tr>\n",
              "    <tr>\n",
              "      <th>1</th>\n",
              "      <td>2016000100</td>\n",
              "      <td>2016</td>\n",
              "      <td>AK</td>\n",
              "      <td>NaN</td>\n",
              "      <td>9-NDI not avail</td>\n",
              "      <td>62083</td>\n",
              "      <td>NaN</td>\n",
              "      <td>1.0</td>\n",
              "      <td>81300</td>\n",
              "      <td>28.1</td>\n",
              "      <td>NaN</td>\n",
              "      <td>60.8</td>\n",
              "      <td>4.2</td>\n",
              "      <td>2.1</td>\n",
              "      <td>92.0</td>\n",
              "      <td>13.8</td>\n",
              "      <td>12.3</td>\n",
              "      <td>3.5</td>\n",
              "    </tr>\n",
              "    <tr>\n",
              "      <th>2</th>\n",
              "      <td>2105000200</td>\n",
              "      <td>2105</td>\n",
              "      <td>AK</td>\n",
              "      <td>NaN</td>\n",
              "      <td>9-NDI not avail</td>\n",
              "      <td>42500</td>\n",
              "      <td>65.0</td>\n",
              "      <td>NaN</td>\n",
              "      <td>&lt;NA&gt;</td>\n",
              "      <td>39.3</td>\n",
              "      <td>3.0</td>\n",
              "      <td>75.0</td>\n",
              "      <td>6.3</td>\n",
              "      <td>9.4</td>\n",
              "      <td>83.9</td>\n",
              "      <td>16.1</td>\n",
              "      <td>5.3</td>\n",
              "      <td>12.5</td>\n",
              "    </tr>\n",
              "    <tr>\n",
              "      <th>3</th>\n",
              "      <td>2170000101</td>\n",
              "      <td>2170</td>\n",
              "      <td>AK</td>\n",
              "      <td>NaN</td>\n",
              "      <td>9-NDI not avail</td>\n",
              "      <td>37222</td>\n",
              "      <td>66.9</td>\n",
              "      <td>NaN</td>\n",
              "      <td>128100</td>\n",
              "      <td>22.6</td>\n",
              "      <td>6.6</td>\n",
              "      <td>82.4</td>\n",
              "      <td>6.3</td>\n",
              "      <td>22.4</td>\n",
              "      <td>87.8</td>\n",
              "      <td>11.5</td>\n",
              "      <td>22.0</td>\n",
              "      <td>15.8</td>\n",
              "    </tr>\n",
              "    <tr>\n",
              "      <th>4</th>\n",
              "      <td>2290000100</td>\n",
              "      <td>2290</td>\n",
              "      <td>AK</td>\n",
              "      <td>NaN</td>\n",
              "      <td>9-NDI not avail</td>\n",
              "      <td>27222</td>\n",
              "      <td>53.4</td>\n",
              "      <td>NaN</td>\n",
              "      <td>81100</td>\n",
              "      <td>38.3</td>\n",
              "      <td>14.2</td>\n",
              "      <td>71.7</td>\n",
              "      <td>7.1</td>\n",
              "      <td>56.4</td>\n",
              "      <td>77.6</td>\n",
              "      <td>8.7</td>\n",
              "      <td>34.7</td>\n",
              "      <td>23.1</td>\n",
              "    </tr>\n",
              "  </tbody>\n",
              "</table>\n",
              "</div>\n",
              "      <button class=\"colab-df-convert\" onclick=\"convertToInteractive('df-834051d8-f5e0-4f88-917d-a949960e265e')\"\n",
              "              title=\"Convert this dataframe to an interactive table.\"\n",
              "              style=\"display:none;\">\n",
              "        \n",
              "  <svg xmlns=\"http://www.w3.org/2000/svg\" height=\"24px\"viewBox=\"0 0 24 24\"\n",
              "       width=\"24px\">\n",
              "    <path d=\"M0 0h24v24H0V0z\" fill=\"none\"/>\n",
              "    <path d=\"M18.56 5.44l.94 2.06.94-2.06 2.06-.94-2.06-.94-.94-2.06-.94 2.06-2.06.94zm-11 1L8.5 8.5l.94-2.06 2.06-.94-2.06-.94L8.5 2.5l-.94 2.06-2.06.94zm10 10l.94 2.06.94-2.06 2.06-.94-2.06-.94-.94-2.06-.94 2.06-2.06.94z\"/><path d=\"M17.41 7.96l-1.37-1.37c-.4-.4-.92-.59-1.43-.59-.52 0-1.04.2-1.43.59L10.3 9.45l-7.72 7.72c-.78.78-.78 2.05 0 2.83L4 21.41c.39.39.9.59 1.41.59.51 0 1.02-.2 1.41-.59l7.78-7.78 2.81-2.81c.8-.78.8-2.07 0-2.86zM5.41 20L4 18.59l7.72-7.72 1.47 1.35L5.41 20z\"/>\n",
              "  </svg>\n",
              "      </button>\n",
              "      \n",
              "  <style>\n",
              "    .colab-df-container {\n",
              "      display:flex;\n",
              "      flex-wrap:wrap;\n",
              "      gap: 12px;\n",
              "    }\n",
              "\n",
              "    .colab-df-convert {\n",
              "      background-color: #E8F0FE;\n",
              "      border: none;\n",
              "      border-radius: 50%;\n",
              "      cursor: pointer;\n",
              "      display: none;\n",
              "      fill: #1967D2;\n",
              "      height: 32px;\n",
              "      padding: 0 0 0 0;\n",
              "      width: 32px;\n",
              "    }\n",
              "\n",
              "    .colab-df-convert:hover {\n",
              "      background-color: #E2EBFA;\n",
              "      box-shadow: 0px 1px 2px rgba(60, 64, 67, 0.3), 0px 1px 3px 1px rgba(60, 64, 67, 0.15);\n",
              "      fill: #174EA6;\n",
              "    }\n",
              "\n",
              "    [theme=dark] .colab-df-convert {\n",
              "      background-color: #3B4455;\n",
              "      fill: #D2E3FC;\n",
              "    }\n",
              "\n",
              "    [theme=dark] .colab-df-convert:hover {\n",
              "      background-color: #434B5C;\n",
              "      box-shadow: 0px 1px 3px 1px rgba(0, 0, 0, 0.15);\n",
              "      filter: drop-shadow(0px 1px 2px rgba(0, 0, 0, 0.3));\n",
              "      fill: #FFFFFF;\n",
              "    }\n",
              "  </style>\n",
              "\n",
              "      <script>\n",
              "        const buttonEl =\n",
              "          document.querySelector('#df-834051d8-f5e0-4f88-917d-a949960e265e button.colab-df-convert');\n",
              "        buttonEl.style.display =\n",
              "          google.colab.kernel.accessAllowed ? 'block' : 'none';\n",
              "\n",
              "        async function convertToInteractive(key) {\n",
              "          const element = document.querySelector('#df-834051d8-f5e0-4f88-917d-a949960e265e');\n",
              "          const dataTable =\n",
              "            await google.colab.kernel.invokeFunction('convertToInteractive',\n",
              "                                                     [key], {});\n",
              "          if (!dataTable) return;\n",
              "\n",
              "          const docLinkHtml = 'Like what you see? Visit the ' +\n",
              "            '<a target=\"_blank\" href=https://colab.research.google.com/notebooks/data_table.ipynb>data table notebook</a>'\n",
              "            + ' to learn more about interactive tables.';\n",
              "          element.innerHTML = '';\n",
              "          dataTable['output_type'] = 'display_data';\n",
              "          await google.colab.output.renderOutput(dataTable, element);\n",
              "          const docLink = document.createElement('div');\n",
              "          docLink.innerHTML = docLinkHtml;\n",
              "          element.appendChild(docLink);\n",
              "        }\n",
              "      </script>\n",
              "    </div>\n",
              "  </div>\n",
              "  "
            ]
          },
          "metadata": {},
          "execution_count": 5
        }
      ]
    },
    {
      "cell_type": "markdown",
      "source": [
        "Congratulations! You are now able to run a query via the BigQuery API!"
      ],
      "metadata": {
        "id": "2EDq011PCgtO"
      }
    },
    {
      "cell_type": "code",
      "source": [],
      "metadata": {
        "id": "b748_2tMCjSh"
      },
      "execution_count": null,
      "outputs": []
    }
  ]
}